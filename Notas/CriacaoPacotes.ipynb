{
 "cells": [
  {
   "cell_type": "markdown",
   "id": "d3dd0fb3",
   "metadata": {},
   "source": [
    "### Conceitos\n",
    "- ***Pypi***: Repositório público oficial de pacotes\n",
    "- ***Wheel e Sdist***: Dois tipos de distribuições\n",
    "- ***Setuptools***: Pacote usado em setup.py para gerar as distribuições\n",
    "- ***Twine***: Pacote usado para subir as distribuições no repositório Pypi"
   ]
  },
  {
   "cell_type": "markdown",
   "id": "31495aea",
   "metadata": {},
   "source": [
    "#### Setuptools\n",
    "Usado para especificar como o pacote deve ser construido. Documentação: <a href=\"https://setuptools.readthedocs.io/en/latest/setuptools.html\">LINK</a>"
   ]
  },
  {
   "cell_type": "markdown",
   "id": "2482ec30",
   "metadata": {},
   "source": [
    "#### requirements.txt\n",
    "Usado para passar as dependências que devem ser instaladas nom o seu pacote. Opcionamente, podem ser especificadas as versões."
   ]
  },
  {
   "cell_type": "markdown",
   "id": "1ca984c2",
   "metadata": {},
   "source": [
    "#### README.md\n",
    "Será exibida como documentação na página do Pypi do seu pacote."
   ]
  },
  {
   "cell_type": "markdown",
   "id": "67dec1db",
   "metadata": {},
   "source": [
    "#### Distribuições\n",
    "Para subir o pacote, criar uma distribuição binária ou distribuição de código fonte.\n",
    "As versões mais recentes do pip instalam primeiramento a binária e usam a disntruição de código donte, apenas se necessário.\n",
    "- Comoandos de instalação\n",
    "    - python -m pip install --upgrade pip\n",
    "    - python -m pip install --user twine\n",
    "    - python -m pip install --user setuptools\n",
    "- Criando a distribuição\n",
    "    - python setup.py sdist bdist_whell"
   ]
  },
  {
   "cell_type": "markdown",
   "id": "00e70390",
   "metadata": {},
   "source": [
    "### Publicando\n",
    "- Test PyPi\n",
    "    - python -m twine upload --repository-url https://test.pypi.org/legacy/dist/*\n",
    "\n",
    "- PyPi\n",
    "    - pip install --index-url https://test.pypi.org/simple/image-processing (baixar o pacote de teste do test pypi)\n",
    "    - python -m twine upload --repository-url https://upload.pypi.org/legacy/dist/*\n",
    "\n",
    "- Instalar pacote\n",
    "    - python -m pip install package_name"
   ]
  }
 ],
 "metadata": {
  "kernelspec": {
   "display_name": "Python 3 (ipykernel)",
   "language": "python",
   "name": "python3"
  },
  "language_info": {
   "codemirror_mode": {
    "name": "ipython",
    "version": 3
   },
   "file_extension": ".py",
   "mimetype": "text/x-python",
   "name": "python",
   "nbconvert_exporter": "python",
   "pygments_lexer": "ipython3",
   "version": "3.10.6"
  }
 },
 "nbformat": 4,
 "nbformat_minor": 5
}
