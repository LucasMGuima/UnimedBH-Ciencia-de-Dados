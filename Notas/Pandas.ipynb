{
 "cells": [
  {
   "cell_type": "markdown",
   "id": "9b7d0e78",
   "metadata": {},
   "source": [
    "# Comandos\n",
    "- Formato da tabela\n",
    "    ```python\n",
    "        df.shape()\n",
    "    ```\n",
    "- Informaçãoes da tabela\n",
    "    ```python\n",
    "        df.info()\n",
    "    ```\n"
   ]
  }
 ],
 "metadata": {
  "kernelspec": {
   "display_name": "Python 3 (ipykernel)",
   "language": "python",
   "name": "python3"
  },
  "language_info": {
   "codemirror_mode": {
    "name": "ipython",
    "version": 3
   },
   "file_extension": ".py",
   "mimetype": "text/x-python",
   "name": "python",
   "nbconvert_exporter": "python",
   "pygments_lexer": "ipython3",
   "version": "3.10.6"
  }
 },
 "nbformat": 4,
 "nbformat_minor": 5
}
